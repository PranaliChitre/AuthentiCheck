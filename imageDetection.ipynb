Image Detection using CNN

1. Data Preparation: Image data is loaded from CSV files and preprocessed using data augmentation techniques.

2. Model Architecture: A Convolutional Neural Network (CNN) model is defined with convolutional and pooling layers, followed by dense layers for classification.

3. Model Training: The model is trained on the augmented data, optimizing binary cross-entropy loss.

4. Model Evaluation: The model's performance is evaluated on a separate test dataset, calculating test loss and accuracy.

5. Visualization: Training and validation accuracy/loss are plotted, and a confusion matrix is generated to assess model performance.

6. Prediction: A function is provided to predict labels for new images using the trained model.


import pandas as pd
import os
import tensorflow as tf
from tensorflow.keras.models import Sequential
from tensorflow.keras.layers import Conv2D, MaxPooling2D, Flatten, Dense, Dropout
from tensorflow.keras.optimizers import Adam
from tensorflow.keras.preprocessing.image import ImageDataGenerator
from sklearn.model_selection import train_test_split

Load the training data from CSV

data_df = pd.read_csv('newtrain_data.csv')

data_folder_path = r'C:\Users\prana\Desktop\Anaconda\Tensor flow\NewData\newtrain'

train_df, val_df = train_test_split(data_df, test_size=0.2, random_state=42)

train_datagen = ImageDataGenerator(
    rescale=1./255,
    rotation_range=20,
    width_shift_range=0.1,
    height_shift_range=0.1,
    shear_range=0.1,
    zoom_range=0.1,
    horizontal_flip=True,
    fill_mode='nearest'
)


val_datagen = ImageDataGenerator(rescale=1./255)

train_generator = train_datagen.flow_from_dataframe(
    dataframe=train_df,
    directory=data_folder_path,
    x_col='image_name',
    y_col='label',
    target_size=(224, 224),
    batch_size=64,
    class_mode='binary'
)

val_generator = val_datagen.flow_from_dataframe(
    dataframe=val_df,
    directory=data_folder_path,
    x_col='image_name',
    y_col='label',
    target_size=(224, 224),
    batch_size=64,
    class_mode='binary'
)

Define the CNN model architecture

model = Sequential([
    Conv2D(filters=32, kernel_size=(3, 3), activation='relu', input_shape=(224, 224, 3)),
    MaxPooling2D(pool_size=(2, 2)),
    Conv2D(filters=64, kernel_size=(3, 3), activation='relu'),
    MaxPooling2D(pool_size=(2, 2)),
    Conv2D(filters=128, kernel_size=(3, 3), activation='relu'),
    MaxPooling2D(pool_size=(2, 2)),
    Flatten(),
    Dense(units=512, activation='relu'),
    Dropout(0.5),
    Dense(units=1, activation='sigmoid')
])

model.compile(optimizer=Adam(lr=0.0001), loss='binary_crossentropy', metrics=['accuracy'])

history = model.fit(
    train_generator,
    steps_per_epoch=len(train_generator),
    epochs=15, 
    validation_data=val_generator,
    validation_steps=len(val_generator)
)

test_df = pd.read_csv('newtest_data.csv')

test_datagen = ImageDataGenerator(rescale=1./255)

test_generator = test_datagen.flow_from_dataframe(
    dataframe=test_df,
    directory=data_folder_path,
    x_col='image_name',
    y_col='label',
    target_size=(224, 224),
    batch_size=128,
    class_mode='binary'
)

test_loss, test_accuracy = model.evaluate(test_generator, steps=len(test_generator))
print("Test Loss:", test_loss)
print("Test Accuracy:", test_accuracy)

import matplotlib.pyplot as plt

plt.plot(history.history['accuracy'], label='accuracy')
plt.plot(history.history['val_accuracy'], label='val_accuracy')
plt.xlabel('Epoch')
plt.ylabel('Accuracy')
plt.ylim([0, 1])
plt.legend(loc='lower right')
plt.title('Training and Validation Accuracy')
plt.show()

plt.plot(history.history['loss'], label='loss')
plt.plot(history.history['val_loss'], label='val_loss')
plt.xlabel('Epoch')
plt.ylabel('Loss')
plt.legend(loc='upper right')
plt.title('Training and Validation Loss')
plt.show()

from sklearn.metrics import classification_report, confusion_matrix
import numpy as np

y_pred_probs = model.predict(test_generator)

y_pred = np.round(y_pred_probs)

y_true = test_generator.labels

conf_matrix = confusion_matrix(y_true, y_pred)

plt.figure(figsize=(8, 6))
plt.imshow(conf_matrix, cmap=plt.cm.Blues)
plt.title('Confusion Matrix')
plt.colorbar()
plt.xlabel('Predicted Labels')
plt.ylabel('True Labels')
plt.xticks([0, 1], ['Negative', 'Positive'])
plt.yticks([0, 1], ['Negative', 'Positive'])
for i in range(2):
    for j in range(2):
        plt.text(j, i, conf_matrix[i, j], ha='center', va='center', color='red')
plt.show()

class_names = ['Negative', 'Positive']
print("Classification Report:")
print(classification_report(y_true, y_pred, target_names=class_names))

model.summary()

import joblib
import tensorflow as tf
from tensorflow.keras.models import load_model

model.save("saved_model")

loaded_model = tf.keras.models.load_model("saved_model")

joblib.dump(loaded_model, "model.pkl")

import numpy as np
from PIL import Image
import matplotlib.pyplot as plt
import tensorflow as tf
from tensorflow.keras.preprocessing import image as keras_image

def predict_image(image_path, model):
    img = Image.open(image_path)
    img = img.resize((224, 224))
    img_array = keras_image.img_to_array(img)
    img_array = np.expand_dims(img_array, axis=0)
    img_array = img_array / 255.0

    prediction = model.predict(img_array)
    if prediction[0][0] > 0.5:
        prediction_label = "Fake"
    else:
        prediction_label = "Real"

    return img, prediction_label

image_path = r'C:\Users\prana\Desktop\Anaconda\Tensor flow\img1.jpg'
loaded_model = tf.keras.models.load_model("saved_model")
image, prediction_result = predict_image(image_path, loaded_model)


plt.imshow(image)
plt.title(f'Prediction: {prediction_result}')
plt.axis('off')
plt.show()


image_path = r'C:\Users\prana\Desktop\Anaconda\Tensor flow\img.jpg'
loaded_model = tf.keras.models.load_model("saved_model")
image, prediction_result = predict_image(image_path, loaded_model)
plt.imshow(image)
plt.title(f'Prediction: {prediction_result}')
plt.axis('off')
plt.show()

image_path = r'C:\Users\prana\Desktop\Anaconda\Tensor flow\img4.jpg'
loaded_model = tf.keras.models.load_model("saved_model")
image, prediction_result = predict_image(image_path, loaded_model)
plt.imshow(image)
plt.title(f'Prediction: {prediction_result}')
plt.axis('off')
plt.show()


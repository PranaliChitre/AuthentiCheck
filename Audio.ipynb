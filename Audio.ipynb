{
  "nbformat": 4,
  "nbformat_minor": 0,
  "metadata": {
    "colab": {
      "provenance": []
    },
    "kernelspec": {
      "name": "python3",
      "display_name": "Python 3"
    },
    "language_info": {
      "name": "python"
    }
  },
  "cells": [
    {
      "cell_type": "code",
      "execution_count": 1,
      "metadata": {
        "id": "oI9QLOgqukK2"
      },
      "outputs": [],
      "source": [
        "import numpy as np\n",
        "import pandas as pd"
      ]
    },
    {
      "cell_type": "code",
      "source": [
        "file = ''\n",
        "\n",
        "\n",
        "import os\n",
        "for dirname, _, filenames in os.walk('/kaggle/input'):\n",
        "    for filename in filenames:\n",
        "        if '.csv' in filename:\n",
        "            print(os.path.join(dirname, filename))\n",
        "            file = os.path.join(dirname, filename)\n",
        "            break"
      ],
      "metadata": {
        "id": "kIFWfdq5xV9G"
      },
      "execution_count": 2,
      "outputs": []
    },
    {
      "cell_type": "code",
      "source": [
        "from sklearn import tree\n",
        "from sklearn.model_selection import train_test_split\n",
        "from sklearn.tree import DecisionTreeClassifier\n",
        "from sklearn.metrics import accuracy_score, f1_score, roc_auc_score, precision_score, recall_score, confusion_matrix\n",
        "from sklearn.preprocessing import StandardScaler, MinMaxScaler\n",
        "from sklearn.decomposition import PCA\n",
        "from sklearn.impute import SimpleImputer\n",
        "import tensorflow as tf\n",
        "from tensorflow.keras.models import Sequential\n",
        "from tensorflow.keras.layers import Dense, Input, Dropout\n",
        "from tensorflow.keras.metrics import AUC, F1Score, Precision, Recall, BinaryAccuracy\n",
        "from tensorflow.keras.losses import BinaryCrossentropy\n",
        "from tensorflow.keras.optimizers import Adam\n",
        "from tensorflow.keras.callbacks import EarlyStopping, ReduceLROnPlateau"
      ],
      "metadata": {
        "id": "P02bMlZUxlyz"
      },
      "execution_count": 4,
      "outputs": []
    },
    {
      "cell_type": "code",
      "source": [
        "df = pd.read_csv('DATASET-balanced.csv')"
      ],
      "metadata": {
        "id": "wjJgdo-0x0gu"
      },
      "execution_count": 7,
      "outputs": []
    },
    {
      "cell_type": "code",
      "source": [
        "df['LABEL'] = df['LABEL'].map({'FAKE': 1, 'REAL': 0})"
      ],
      "metadata": {
        "id": "hm9IbznoyJpi"
      },
      "execution_count": 8,
      "outputs": []
    },
    {
      "cell_type": "code",
      "source": [
        "print(True in df.isna())\n",
        "print(True in df.isnull())"
      ],
      "metadata": {
        "colab": {
          "base_uri": "https://localhost:8080/"
        },
        "id": "qQ7Fajxn1org",
        "outputId": "4cfd692d-d1fe-47d5-bafe-956726e55e8c"
      },
      "execution_count": 9,
      "outputs": [
        {
          "output_type": "stream",
          "name": "stdout",
          "text": [
            "False\n",
            "False\n"
          ]
        }
      ]
    },
    {
      "cell_type": "code",
      "source": [
        "df = df.sample(frac=1).reset_index(drop=True)"
      ],
      "metadata": {
        "id": "EdgR0UxD1rJe"
      },
      "execution_count": 10,
      "outputs": []
    },
    {
      "cell_type": "code",
      "source": [
        "df"
      ],
      "metadata": {
        "colab": {
          "base_uri": "https://localhost:8080/",
          "height": 443
        },
        "id": "twcBZ6yW1uKO",
        "outputId": "86142853-8406-494b-eb55-8a28c9d8cbd8"
      },
      "execution_count": 11,
      "outputs": [
        {
          "output_type": "execute_result",
          "data": {
            "text/plain": [
              "       chroma_stft       rms  spectral_centroid  spectral_bandwidth  \\\n",
              "0         0.434420  0.010428        3654.215839         3476.884276   \n",
              "1         0.362887  0.025587        2342.893606         2935.652973   \n",
              "2         0.429961  0.023098        4769.625648         3988.267624   \n",
              "3         0.200353  0.117831        1490.480382         2020.803564   \n",
              "4         0.491303  0.041751        3041.065280         3638.781766   \n",
              "...            ...       ...                ...                 ...   \n",
              "11773     0.441565  0.080364        1162.973349         1466.225141   \n",
              "11774     0.318175  0.051559        2024.412957         2441.937222   \n",
              "11775     0.443750  0.034111        2172.557865         2839.923273   \n",
              "11776     0.385435  0.041060        2416.685728         2685.926348   \n",
              "11777     0.353458  0.032006        1763.325101         2598.418624   \n",
              "\n",
              "           rolloff  zero_crossing_rate       mfcc1       mfcc2      mfcc3  \\\n",
              "0      6029.296875            0.123343 -485.487274  122.040565  -5.436024   \n",
              "1      4107.116205            0.053389 -375.190399  157.900528  -6.320182   \n",
              "2      9144.889981            0.145511 -356.662842   78.522896 -38.929577   \n",
              "3      2262.390525            0.033645 -271.098999  162.267334 -33.003162   \n",
              "4      6106.467892            0.072294 -350.455689  135.754456 -13.105219   \n",
              "...            ...                 ...         ...         ...        ...   \n",
              "11773  2018.395502            0.037485 -297.245667  191.568298   0.334149   \n",
              "11774  3385.222739            0.045924 -328.978943  164.048523 -39.911701   \n",
              "11775  4175.076488            0.042768 -363.679504  152.001968 -25.896812   \n",
              "11776  3980.260971            0.061095 -349.334228  149.331924 -45.167198   \n",
              "11777  2633.976064            0.038439 -395.447235  169.256119  -8.117723   \n",
              "\n",
              "           mfcc4  ...     mfcc12    mfcc13     mfcc14     mfcc15     mfcc16  \\\n",
              "0      33.132732  ...  -8.445394 -2.936203   0.365490  -8.423420   6.770203   \n",
              "1      38.309902  ... -12.795143 -4.172510  -3.173376  -5.565846  -8.102596   \n",
              "2      42.164318  ...  -3.112957 -7.801226 -11.172655  -6.737967 -13.176278   \n",
              "3      -0.611585  ...  -8.085480 -6.355404  -6.591592  -1.410072  -3.146891   \n",
              "4      20.527149  ...   8.304556 -8.588508  -0.572785  -6.155067   2.703197   \n",
              "...          ...  ...        ...       ...        ...        ...        ...   \n",
              "11773  -5.123982  ...  -6.465257 -0.120986   6.203625   1.263023   0.382126   \n",
              "11774   6.005329  ... -14.987345 -2.074536  -6.526327  -8.372523  -4.753191   \n",
              "11775  52.234081  ...  -1.154219  1.270845   3.009017  -1.650969   2.663095   \n",
              "11776   6.208394  ... -16.098841 -4.360042  -9.381591 -10.041245  -5.338403   \n",
              "11777  -2.369647  ...  -3.950845  1.159436  -1.876299  -1.524913   0.310504   \n",
              "\n",
              "          mfcc17     mfcc18    mfcc19     mfcc20  LABEL  \n",
              "0      -2.236708   1.512651  2.412600  -4.973174      1  \n",
              "1      -2.640123  -5.720956 -1.075956 -12.127365      0  \n",
              "2      -8.453712 -13.410210 -6.572034 -14.356358      0  \n",
              "3      -8.363245  -3.604724 -5.088068 -16.382357      1  \n",
              "4      -1.599514   2.103551 -2.299909   0.920473      1  \n",
              "...          ...        ...       ...        ...    ...  \n",
              "11773   0.066055  -5.016092 -1.600655   2.141849      0  \n",
              "11774  -6.680845  -5.108403  0.102955  -0.061355      0  \n",
              "11775   0.118458   3.048476  0.163568   0.822175      1  \n",
              "11776 -10.489751  -6.709141 -3.380858  -4.899646      0  \n",
              "11777  -6.791560  -6.786782  0.753376  -2.392843      0  \n",
              "\n",
              "[11778 rows x 27 columns]"
            ],
            "text/html": [
              "\n",
              "  <div id=\"df-3239a40b-3c1c-4cf7-88d1-c42b92be3f35\" class=\"colab-df-container\">\n",
              "    <div>\n",
              "<style scoped>\n",
              "    .dataframe tbody tr th:only-of-type {\n",
              "        vertical-align: middle;\n",
              "    }\n",
              "\n",
              "    .dataframe tbody tr th {\n",
              "        vertical-align: top;\n",
              "    }\n",
              "\n",
              "    .dataframe thead th {\n",
              "        text-align: right;\n",
              "    }\n",
              "</style>\n",
              "<table border=\"1\" class=\"dataframe\">\n",
              "  <thead>\n",
              "    <tr style=\"text-align: right;\">\n",
              "      <th></th>\n",
              "      <th>chroma_stft</th>\n",
              "      <th>rms</th>\n",
              "      <th>spectral_centroid</th>\n",
              "      <th>spectral_bandwidth</th>\n",
              "      <th>rolloff</th>\n",
              "      <th>zero_crossing_rate</th>\n",
              "      <th>mfcc1</th>\n",
              "      <th>mfcc2</th>\n",
              "      <th>mfcc3</th>\n",
              "      <th>mfcc4</th>\n",
              "      <th>...</th>\n",
              "      <th>mfcc12</th>\n",
              "      <th>mfcc13</th>\n",
              "      <th>mfcc14</th>\n",
              "      <th>mfcc15</th>\n",
              "      <th>mfcc16</th>\n",
              "      <th>mfcc17</th>\n",
              "      <th>mfcc18</th>\n",
              "      <th>mfcc19</th>\n",
              "      <th>mfcc20</th>\n",
              "      <th>LABEL</th>\n",
              "    </tr>\n",
              "  </thead>\n",
              "  <tbody>\n",
              "    <tr>\n",
              "      <th>0</th>\n",
              "      <td>0.434420</td>\n",
              "      <td>0.010428</td>\n",
              "      <td>3654.215839</td>\n",
              "      <td>3476.884276</td>\n",
              "      <td>6029.296875</td>\n",
              "      <td>0.123343</td>\n",
              "      <td>-485.487274</td>\n",
              "      <td>122.040565</td>\n",
              "      <td>-5.436024</td>\n",
              "      <td>33.132732</td>\n",
              "      <td>...</td>\n",
              "      <td>-8.445394</td>\n",
              "      <td>-2.936203</td>\n",
              "      <td>0.365490</td>\n",
              "      <td>-8.423420</td>\n",
              "      <td>6.770203</td>\n",
              "      <td>-2.236708</td>\n",
              "      <td>1.512651</td>\n",
              "      <td>2.412600</td>\n",
              "      <td>-4.973174</td>\n",
              "      <td>1</td>\n",
              "    </tr>\n",
              "    <tr>\n",
              "      <th>1</th>\n",
              "      <td>0.362887</td>\n",
              "      <td>0.025587</td>\n",
              "      <td>2342.893606</td>\n",
              "      <td>2935.652973</td>\n",
              "      <td>4107.116205</td>\n",
              "      <td>0.053389</td>\n",
              "      <td>-375.190399</td>\n",
              "      <td>157.900528</td>\n",
              "      <td>-6.320182</td>\n",
              "      <td>38.309902</td>\n",
              "      <td>...</td>\n",
              "      <td>-12.795143</td>\n",
              "      <td>-4.172510</td>\n",
              "      <td>-3.173376</td>\n",
              "      <td>-5.565846</td>\n",
              "      <td>-8.102596</td>\n",
              "      <td>-2.640123</td>\n",
              "      <td>-5.720956</td>\n",
              "      <td>-1.075956</td>\n",
              "      <td>-12.127365</td>\n",
              "      <td>0</td>\n",
              "    </tr>\n",
              "    <tr>\n",
              "      <th>2</th>\n",
              "      <td>0.429961</td>\n",
              "      <td>0.023098</td>\n",
              "      <td>4769.625648</td>\n",
              "      <td>3988.267624</td>\n",
              "      <td>9144.889981</td>\n",
              "      <td>0.145511</td>\n",
              "      <td>-356.662842</td>\n",
              "      <td>78.522896</td>\n",
              "      <td>-38.929577</td>\n",
              "      <td>42.164318</td>\n",
              "      <td>...</td>\n",
              "      <td>-3.112957</td>\n",
              "      <td>-7.801226</td>\n",
              "      <td>-11.172655</td>\n",
              "      <td>-6.737967</td>\n",
              "      <td>-13.176278</td>\n",
              "      <td>-8.453712</td>\n",
              "      <td>-13.410210</td>\n",
              "      <td>-6.572034</td>\n",
              "      <td>-14.356358</td>\n",
              "      <td>0</td>\n",
              "    </tr>\n",
              "    <tr>\n",
              "      <th>3</th>\n",
              "      <td>0.200353</td>\n",
              "      <td>0.117831</td>\n",
              "      <td>1490.480382</td>\n",
              "      <td>2020.803564</td>\n",
              "      <td>2262.390525</td>\n",
              "      <td>0.033645</td>\n",
              "      <td>-271.098999</td>\n",
              "      <td>162.267334</td>\n",
              "      <td>-33.003162</td>\n",
              "      <td>-0.611585</td>\n",
              "      <td>...</td>\n",
              "      <td>-8.085480</td>\n",
              "      <td>-6.355404</td>\n",
              "      <td>-6.591592</td>\n",
              "      <td>-1.410072</td>\n",
              "      <td>-3.146891</td>\n",
              "      <td>-8.363245</td>\n",
              "      <td>-3.604724</td>\n",
              "      <td>-5.088068</td>\n",
              "      <td>-16.382357</td>\n",
              "      <td>1</td>\n",
              "    </tr>\n",
              "    <tr>\n",
              "      <th>4</th>\n",
              "      <td>0.491303</td>\n",
              "      <td>0.041751</td>\n",
              "      <td>3041.065280</td>\n",
              "      <td>3638.781766</td>\n",
              "      <td>6106.467892</td>\n",
              "      <td>0.072294</td>\n",
              "      <td>-350.455689</td>\n",
              "      <td>135.754456</td>\n",
              "      <td>-13.105219</td>\n",
              "      <td>20.527149</td>\n",
              "      <td>...</td>\n",
              "      <td>8.304556</td>\n",
              "      <td>-8.588508</td>\n",
              "      <td>-0.572785</td>\n",
              "      <td>-6.155067</td>\n",
              "      <td>2.703197</td>\n",
              "      <td>-1.599514</td>\n",
              "      <td>2.103551</td>\n",
              "      <td>-2.299909</td>\n",
              "      <td>0.920473</td>\n",
              "      <td>1</td>\n",
              "    </tr>\n",
              "    <tr>\n",
              "      <th>...</th>\n",
              "      <td>...</td>\n",
              "      <td>...</td>\n",
              "      <td>...</td>\n",
              "      <td>...</td>\n",
              "      <td>...</td>\n",
              "      <td>...</td>\n",
              "      <td>...</td>\n",
              "      <td>...</td>\n",
              "      <td>...</td>\n",
              "      <td>...</td>\n",
              "      <td>...</td>\n",
              "      <td>...</td>\n",
              "      <td>...</td>\n",
              "      <td>...</td>\n",
              "      <td>...</td>\n",
              "      <td>...</td>\n",
              "      <td>...</td>\n",
              "      <td>...</td>\n",
              "      <td>...</td>\n",
              "      <td>...</td>\n",
              "      <td>...</td>\n",
              "    </tr>\n",
              "    <tr>\n",
              "      <th>11773</th>\n",
              "      <td>0.441565</td>\n",
              "      <td>0.080364</td>\n",
              "      <td>1162.973349</td>\n",
              "      <td>1466.225141</td>\n",
              "      <td>2018.395502</td>\n",
              "      <td>0.037485</td>\n",
              "      <td>-297.245667</td>\n",
              "      <td>191.568298</td>\n",
              "      <td>0.334149</td>\n",
              "      <td>-5.123982</td>\n",
              "      <td>...</td>\n",
              "      <td>-6.465257</td>\n",
              "      <td>-0.120986</td>\n",
              "      <td>6.203625</td>\n",
              "      <td>1.263023</td>\n",
              "      <td>0.382126</td>\n",
              "      <td>0.066055</td>\n",
              "      <td>-5.016092</td>\n",
              "      <td>-1.600655</td>\n",
              "      <td>2.141849</td>\n",
              "      <td>0</td>\n",
              "    </tr>\n",
              "    <tr>\n",
              "      <th>11774</th>\n",
              "      <td>0.318175</td>\n",
              "      <td>0.051559</td>\n",
              "      <td>2024.412957</td>\n",
              "      <td>2441.937222</td>\n",
              "      <td>3385.222739</td>\n",
              "      <td>0.045924</td>\n",
              "      <td>-328.978943</td>\n",
              "      <td>164.048523</td>\n",
              "      <td>-39.911701</td>\n",
              "      <td>6.005329</td>\n",
              "      <td>...</td>\n",
              "      <td>-14.987345</td>\n",
              "      <td>-2.074536</td>\n",
              "      <td>-6.526327</td>\n",
              "      <td>-8.372523</td>\n",
              "      <td>-4.753191</td>\n",
              "      <td>-6.680845</td>\n",
              "      <td>-5.108403</td>\n",
              "      <td>0.102955</td>\n",
              "      <td>-0.061355</td>\n",
              "      <td>0</td>\n",
              "    </tr>\n",
              "    <tr>\n",
              "      <th>11775</th>\n",
              "      <td>0.443750</td>\n",
              "      <td>0.034111</td>\n",
              "      <td>2172.557865</td>\n",
              "      <td>2839.923273</td>\n",
              "      <td>4175.076488</td>\n",
              "      <td>0.042768</td>\n",
              "      <td>-363.679504</td>\n",
              "      <td>152.001968</td>\n",
              "      <td>-25.896812</td>\n",
              "      <td>52.234081</td>\n",
              "      <td>...</td>\n",
              "      <td>-1.154219</td>\n",
              "      <td>1.270845</td>\n",
              "      <td>3.009017</td>\n",
              "      <td>-1.650969</td>\n",
              "      <td>2.663095</td>\n",
              "      <td>0.118458</td>\n",
              "      <td>3.048476</td>\n",
              "      <td>0.163568</td>\n",
              "      <td>0.822175</td>\n",
              "      <td>1</td>\n",
              "    </tr>\n",
              "    <tr>\n",
              "      <th>11776</th>\n",
              "      <td>0.385435</td>\n",
              "      <td>0.041060</td>\n",
              "      <td>2416.685728</td>\n",
              "      <td>2685.926348</td>\n",
              "      <td>3980.260971</td>\n",
              "      <td>0.061095</td>\n",
              "      <td>-349.334228</td>\n",
              "      <td>149.331924</td>\n",
              "      <td>-45.167198</td>\n",
              "      <td>6.208394</td>\n",
              "      <td>...</td>\n",
              "      <td>-16.098841</td>\n",
              "      <td>-4.360042</td>\n",
              "      <td>-9.381591</td>\n",
              "      <td>-10.041245</td>\n",
              "      <td>-5.338403</td>\n",
              "      <td>-10.489751</td>\n",
              "      <td>-6.709141</td>\n",
              "      <td>-3.380858</td>\n",
              "      <td>-4.899646</td>\n",
              "      <td>0</td>\n",
              "    </tr>\n",
              "    <tr>\n",
              "      <th>11777</th>\n",
              "      <td>0.353458</td>\n",
              "      <td>0.032006</td>\n",
              "      <td>1763.325101</td>\n",
              "      <td>2598.418624</td>\n",
              "      <td>2633.976064</td>\n",
              "      <td>0.038439</td>\n",
              "      <td>-395.447235</td>\n",
              "      <td>169.256119</td>\n",
              "      <td>-8.117723</td>\n",
              "      <td>-2.369647</td>\n",
              "      <td>...</td>\n",
              "      <td>-3.950845</td>\n",
              "      <td>1.159436</td>\n",
              "      <td>-1.876299</td>\n",
              "      <td>-1.524913</td>\n",
              "      <td>0.310504</td>\n",
              "      <td>-6.791560</td>\n",
              "      <td>-6.786782</td>\n",
              "      <td>0.753376</td>\n",
              "      <td>-2.392843</td>\n",
              "      <td>0</td>\n",
              "    </tr>\n",
              "  </tbody>\n",
              "</table>\n",
              "<p>11778 rows × 27 columns</p>\n",
              "</div>\n",
              "    <div class=\"colab-df-buttons\">\n",
              "\n",
              "  <div class=\"colab-df-container\">\n",
              "    <button class=\"colab-df-convert\" onclick=\"convertToInteractive('df-3239a40b-3c1c-4cf7-88d1-c42b92be3f35')\"\n",
              "            title=\"Convert this dataframe to an interactive table.\"\n",
              "            style=\"display:none;\">\n",
              "\n",
              "  <svg xmlns=\"http://www.w3.org/2000/svg\" height=\"24px\" viewBox=\"0 -960 960 960\">\n",
              "    <path d=\"M120-120v-720h720v720H120Zm60-500h600v-160H180v160Zm220 220h160v-160H400v160Zm0 220h160v-160H400v160ZM180-400h160v-160H180v160Zm440 0h160v-160H620v160ZM180-180h160v-160H180v160Zm440 0h160v-160H620v160Z\"/>\n",
              "  </svg>\n",
              "    </button>\n",
              "\n",
              "  <style>\n",
              "    .colab-df-container {\n",
              "      display:flex;\n",
              "      gap: 12px;\n",
              "    }\n",
              "\n",
              "    .colab-df-convert {\n",
              "      background-color: #E8F0FE;\n",
              "      border: none;\n",
              "      border-radius: 50%;\n",
              "      cursor: pointer;\n",
              "      display: none;\n",
              "      fill: #1967D2;\n",
              "      height: 32px;\n",
              "      padding: 0 0 0 0;\n",
              "      width: 32px;\n",
              "    }\n",
              "\n",
              "    .colab-df-convert:hover {\n",
              "      background-color: #E2EBFA;\n",
              "      box-shadow: 0px 1px 2px rgba(60, 64, 67, 0.3), 0px 1px 3px 1px rgba(60, 64, 67, 0.15);\n",
              "      fill: #174EA6;\n",
              "    }\n",
              "\n",
              "    .colab-df-buttons div {\n",
              "      margin-bottom: 4px;\n",
              "    }\n",
              "\n",
              "    [theme=dark] .colab-df-convert {\n",
              "      background-color: #3B4455;\n",
              "      fill: #D2E3FC;\n",
              "    }\n",
              "\n",
              "    [theme=dark] .colab-df-convert:hover {\n",
              "      background-color: #434B5C;\n",
              "      box-shadow: 0px 1px 3px 1px rgba(0, 0, 0, 0.15);\n",
              "      filter: drop-shadow(0px 1px 2px rgba(0, 0, 0, 0.3));\n",
              "      fill: #FFFFFF;\n",
              "    }\n",
              "  </style>\n",
              "\n",
              "    <script>\n",
              "      const buttonEl =\n",
              "        document.querySelector('#df-3239a40b-3c1c-4cf7-88d1-c42b92be3f35 button.colab-df-convert');\n",
              "      buttonEl.style.display =\n",
              "        google.colab.kernel.accessAllowed ? 'block' : 'none';\n",
              "\n",
              "      async function convertToInteractive(key) {\n",
              "        const element = document.querySelector('#df-3239a40b-3c1c-4cf7-88d1-c42b92be3f35');\n",
              "        const dataTable =\n",
              "          await google.colab.kernel.invokeFunction('convertToInteractive',\n",
              "                                                    [key], {});\n",
              "        if (!dataTable) return;\n",
              "\n",
              "        const docLinkHtml = 'Like what you see? Visit the ' +\n",
              "          '<a target=\"_blank\" href=https://colab.research.google.com/notebooks/data_table.ipynb>data table notebook</a>'\n",
              "          + ' to learn more about interactive tables.';\n",
              "        element.innerHTML = '';\n",
              "        dataTable['output_type'] = 'display_data';\n",
              "        await google.colab.output.renderOutput(dataTable, element);\n",
              "        const docLink = document.createElement('div');\n",
              "        docLink.innerHTML = docLinkHtml;\n",
              "        element.appendChild(docLink);\n",
              "      }\n",
              "    </script>\n",
              "  </div>\n",
              "\n",
              "\n",
              "<div id=\"df-0e3eba4e-8c8f-4e07-8d99-c0f82df1cc97\">\n",
              "  <button class=\"colab-df-quickchart\" onclick=\"quickchart('df-0e3eba4e-8c8f-4e07-8d99-c0f82df1cc97')\"\n",
              "            title=\"Suggest charts\"\n",
              "            style=\"display:none;\">\n",
              "\n",
              "<svg xmlns=\"http://www.w3.org/2000/svg\" height=\"24px\"viewBox=\"0 0 24 24\"\n",
              "     width=\"24px\">\n",
              "    <g>\n",
              "        <path d=\"M19 3H5c-1.1 0-2 .9-2 2v14c0 1.1.9 2 2 2h14c1.1 0 2-.9 2-2V5c0-1.1-.9-2-2-2zM9 17H7v-7h2v7zm4 0h-2V7h2v10zm4 0h-2v-4h2v4z\"/>\n",
              "    </g>\n",
              "</svg>\n",
              "  </button>\n",
              "\n",
              "<style>\n",
              "  .colab-df-quickchart {\n",
              "      --bg-color: #E8F0FE;\n",
              "      --fill-color: #1967D2;\n",
              "      --hover-bg-color: #E2EBFA;\n",
              "      --hover-fill-color: #174EA6;\n",
              "      --disabled-fill-color: #AAA;\n",
              "      --disabled-bg-color: #DDD;\n",
              "  }\n",
              "\n",
              "  [theme=dark] .colab-df-quickchart {\n",
              "      --bg-color: #3B4455;\n",
              "      --fill-color: #D2E3FC;\n",
              "      --hover-bg-color: #434B5C;\n",
              "      --hover-fill-color: #FFFFFF;\n",
              "      --disabled-bg-color: #3B4455;\n",
              "      --disabled-fill-color: #666;\n",
              "  }\n",
              "\n",
              "  .colab-df-quickchart {\n",
              "    background-color: var(--bg-color);\n",
              "    border: none;\n",
              "    border-radius: 50%;\n",
              "    cursor: pointer;\n",
              "    display: none;\n",
              "    fill: var(--fill-color);\n",
              "    height: 32px;\n",
              "    padding: 0;\n",
              "    width: 32px;\n",
              "  }\n",
              "\n",
              "  .colab-df-quickchart:hover {\n",
              "    background-color: var(--hover-bg-color);\n",
              "    box-shadow: 0 1px 2px rgba(60, 64, 67, 0.3), 0 1px 3px 1px rgba(60, 64, 67, 0.15);\n",
              "    fill: var(--button-hover-fill-color);\n",
              "  }\n",
              "\n",
              "  .colab-df-quickchart-complete:disabled,\n",
              "  .colab-df-quickchart-complete:disabled:hover {\n",
              "    background-color: var(--disabled-bg-color);\n",
              "    fill: var(--disabled-fill-color);\n",
              "    box-shadow: none;\n",
              "  }\n",
              "\n",
              "  .colab-df-spinner {\n",
              "    border: 2px solid var(--fill-color);\n",
              "    border-color: transparent;\n",
              "    border-bottom-color: var(--fill-color);\n",
              "    animation:\n",
              "      spin 1s steps(1) infinite;\n",
              "  }\n",
              "\n",
              "  @keyframes spin {\n",
              "    0% {\n",
              "      border-color: transparent;\n",
              "      border-bottom-color: var(--fill-color);\n",
              "      border-left-color: var(--fill-color);\n",
              "    }\n",
              "    20% {\n",
              "      border-color: transparent;\n",
              "      border-left-color: var(--fill-color);\n",
              "      border-top-color: var(--fill-color);\n",
              "    }\n",
              "    30% {\n",
              "      border-color: transparent;\n",
              "      border-left-color: var(--fill-color);\n",
              "      border-top-color: var(--fill-color);\n",
              "      border-right-color: var(--fill-color);\n",
              "    }\n",
              "    40% {\n",
              "      border-color: transparent;\n",
              "      border-right-color: var(--fill-color);\n",
              "      border-top-color: var(--fill-color);\n",
              "    }\n",
              "    60% {\n",
              "      border-color: transparent;\n",
              "      border-right-color: var(--fill-color);\n",
              "    }\n",
              "    80% {\n",
              "      border-color: transparent;\n",
              "      border-right-color: var(--fill-color);\n",
              "      border-bottom-color: var(--fill-color);\n",
              "    }\n",
              "    90% {\n",
              "      border-color: transparent;\n",
              "      border-bottom-color: var(--fill-color);\n",
              "    }\n",
              "  }\n",
              "</style>\n",
              "\n",
              "  <script>\n",
              "    async function quickchart(key) {\n",
              "      const quickchartButtonEl =\n",
              "        document.querySelector('#' + key + ' button');\n",
              "      quickchartButtonEl.disabled = true;  // To prevent multiple clicks.\n",
              "      quickchartButtonEl.classList.add('colab-df-spinner');\n",
              "      try {\n",
              "        const charts = await google.colab.kernel.invokeFunction(\n",
              "            'suggestCharts', [key], {});\n",
              "      } catch (error) {\n",
              "        console.error('Error during call to suggestCharts:', error);\n",
              "      }\n",
              "      quickchartButtonEl.classList.remove('colab-df-spinner');\n",
              "      quickchartButtonEl.classList.add('colab-df-quickchart-complete');\n",
              "    }\n",
              "    (() => {\n",
              "      let quickchartButtonEl =\n",
              "        document.querySelector('#df-0e3eba4e-8c8f-4e07-8d99-c0f82df1cc97 button');\n",
              "      quickchartButtonEl.style.display =\n",
              "        google.colab.kernel.accessAllowed ? 'block' : 'none';\n",
              "    })();\n",
              "  </script>\n",
              "</div>\n",
              "\n",
              "  <div id=\"id_f363bc11-aeaa-49a8-9aac-fd860b2b5db3\">\n",
              "    <style>\n",
              "      .colab-df-generate {\n",
              "        background-color: #E8F0FE;\n",
              "        border: none;\n",
              "        border-radius: 50%;\n",
              "        cursor: pointer;\n",
              "        display: none;\n",
              "        fill: #1967D2;\n",
              "        height: 32px;\n",
              "        padding: 0 0 0 0;\n",
              "        width: 32px;\n",
              "      }\n",
              "\n",
              "      .colab-df-generate:hover {\n",
              "        background-color: #E2EBFA;\n",
              "        box-shadow: 0px 1px 2px rgba(60, 64, 67, 0.3), 0px 1px 3px 1px rgba(60, 64, 67, 0.15);\n",
              "        fill: #174EA6;\n",
              "      }\n",
              "\n",
              "      [theme=dark] .colab-df-generate {\n",
              "        background-color: #3B4455;\n",
              "        fill: #D2E3FC;\n",
              "      }\n",
              "\n",
              "      [theme=dark] .colab-df-generate:hover {\n",
              "        background-color: #434B5C;\n",
              "        box-shadow: 0px 1px 3px 1px rgba(0, 0, 0, 0.15);\n",
              "        filter: drop-shadow(0px 1px 2px rgba(0, 0, 0, 0.3));\n",
              "        fill: #FFFFFF;\n",
              "      }\n",
              "    </style>\n",
              "    <button class=\"colab-df-generate\" onclick=\"generateWithVariable('df')\"\n",
              "            title=\"Generate code using this dataframe.\"\n",
              "            style=\"display:none;\">\n",
              "\n",
              "  <svg xmlns=\"http://www.w3.org/2000/svg\" height=\"24px\"viewBox=\"0 0 24 24\"\n",
              "       width=\"24px\">\n",
              "    <path d=\"M7,19H8.4L18.45,9,17,7.55,7,17.6ZM5,21V16.75L18.45,3.32a2,2,0,0,1,2.83,0l1.4,1.43a1.91,1.91,0,0,1,.58,1.4,1.91,1.91,0,0,1-.58,1.4L9.25,21ZM18.45,9,17,7.55Zm-12,3A5.31,5.31,0,0,0,4.9,8.1,5.31,5.31,0,0,0,1,6.5,5.31,5.31,0,0,0,4.9,4.9,5.31,5.31,0,0,0,6.5,1,5.31,5.31,0,0,0,8.1,4.9,5.31,5.31,0,0,0,12,6.5,5.46,5.46,0,0,0,6.5,12Z\"/>\n",
              "  </svg>\n",
              "    </button>\n",
              "    <script>\n",
              "      (() => {\n",
              "      const buttonEl =\n",
              "        document.querySelector('#id_f363bc11-aeaa-49a8-9aac-fd860b2b5db3 button.colab-df-generate');\n",
              "      buttonEl.style.display =\n",
              "        google.colab.kernel.accessAllowed ? 'block' : 'none';\n",
              "\n",
              "      buttonEl.onclick = () => {\n",
              "        google.colab.notebook.generateWithVariable('df');\n",
              "      }\n",
              "      })();\n",
              "    </script>\n",
              "  </div>\n",
              "\n",
              "    </div>\n",
              "  </div>\n"
            ],
            "application/vnd.google.colaboratory.intrinsic+json": {
              "type": "dataframe",
              "variable_name": "df"
            }
          },
          "metadata": {},
          "execution_count": 11
        }
      ]
    },
    {
      "cell_type": "code",
      "source": [
        "X = df.drop(columns=['LABEL'])  # Features\n",
        "y = df['LABEL'].to_numpy()  # Target variable\n",
        "X = X.to_numpy()\n",
        "\n",
        "# Split data into training and testing sets\n",
        "X_train, X_test, y_train, y_test = train_test_split(X, y, test_size=0.2, random_state=69)\n",
        "\n",
        "print(X_train)\n",
        "print(y_train)\n",
        "\n",
        "print(len(X_train))\n",
        "print(len(y_train))"
      ],
      "metadata": {
        "colab": {
          "base_uri": "https://localhost:8080/"
        },
        "id": "tmxRGbXs1xFp",
        "outputId": "5d2950a4-6af4-44f5-d929-34dd2f11e8e2"
      },
      "execution_count": 12,
      "outputs": [
        {
          "output_type": "stream",
          "name": "stdout",
          "text": [
            "[[ 5.30346000e-01  2.86310000e-02  2.79266444e+03 ...  4.60648200e+00\n",
            "   3.48245000e-01  3.83841400e+00]\n",
            " [ 4.47549000e-01  3.68630000e-02  2.94920482e+03 ... -4.61664700e+00\n",
            "   1.65326200e+00 -4.13195000e-01]\n",
            " [ 4.26855000e-01  5.02130000e-02  2.87868118e+03 ... -2.90104800e+00\n",
            "  -1.08818700e+01 -8.52240600e+00]\n",
            " ...\n",
            " [ 4.07128000e-01  4.29120000e-02  1.37151133e+03 ... -4.17779800e+00\n",
            "  -9.67454300e+00 -7.57713400e+00]\n",
            " [ 4.39837000e-01  1.11340000e-02  3.88232921e+03 ... -2.75005100e+00\n",
            "  -1.45273500e+00 -2.55489300e+00]\n",
            " [ 3.63642000e-01  3.14020000e-02  1.96647427e+03 ... -4.17455600e+00\n",
            "  -2.77622200e+00 -9.07196700e+00]]\n",
            "[1 1 0 ... 1 1 0]\n",
            "9422\n",
            "9422\n"
          ]
        }
      ]
    },
    {
      "cell_type": "code",
      "source": [
        "scaler = MinMaxScaler()\n",
        "\n",
        "# Fit the scaler to the data\n",
        "X_train = scaler.fit_transform(X_train)\n",
        "X_test = scaler.fit_transform(X_test)"
      ],
      "metadata": {
        "id": "VCz9yqs310U0"
      },
      "execution_count": 13,
      "outputs": []
    },
    {
      "cell_type": "code",
      "source": [
        "scaler = StandardScaler()\n",
        "\n",
        "# Fit the scaler to the data\n",
        "X_train = scaler.fit_transform(X_train)\n",
        "X_test = scaler.fit_transform(X_test)"
      ],
      "metadata": {
        "id": "PKX73-Le13Se"
      },
      "execution_count": 14,
      "outputs": []
    },
    {
      "cell_type": "code",
      "source": [
        "X_train, len(X_train[0]), X_train.shape"
      ],
      "metadata": {
        "colab": {
          "base_uri": "https://localhost:8080/"
        },
        "id": "SqOTAtQK17UA",
        "outputId": "ff887e8e-a6b4-4f55-b9c6-fc276488237c"
      },
      "execution_count": 15,
      "outputs": [
        {
          "output_type": "execute_result",
          "data": {
            "text/plain": [
              "(array([[ 1.55959107, -0.33477666,  0.07285842, ...,  1.559074  ,\n",
              "          0.61722463,  1.5021645 ],\n",
              "        [ 0.36693334, -0.04288313,  0.21827033, ..., -0.30382594,\n",
              "          0.87959381,  0.72617115],\n",
              "        [ 0.06884453,  0.43048647,  0.15276022, ...,  0.04269304,\n",
              "         -1.64055141, -0.75390235],\n",
              "        ...,\n",
              "        [-0.21531503,  0.17160471, -1.24726477, ..., -0.21518663,\n",
              "         -1.39782246, -0.5813736 ],\n",
              "        [ 0.25584506, -0.95519224,  1.08505881, ...,  0.07319162,\n",
              "          0.25514379,  0.33527364],\n",
              "        [-0.8417135 , -0.23652144, -0.69459781, ..., -0.21453181,\n",
              "         -0.01093873, -0.85420688]]),\n",
              " 26,\n",
              " (9422, 26))"
            ]
          },
          "metadata": {},
          "execution_count": 15
        }
      ]
    },
    {
      "cell_type": "code",
      "source": [
        "pca = PCA(10)\n",
        "# Fit the PCA object to the data\n",
        "pca_X_train = pca.fit_transform(X_train)\n",
        "pca_X_test = pca.fit_transform(X_test)# Initialize a PCA object\n",
        "pca = PCA(10)\n",
        "\n",
        "# Fit the PCA object to the data\n",
        "pca_X_train = pca.fit_transform(X_train)\n",
        "pca_X_test = pca.fit_transform(X_test)"
      ],
      "metadata": {
        "id": "YXHZjpqH2AU9"
      },
      "execution_count": 20,
      "outputs": []
    },
    {
      "cell_type": "code",
      "source": [
        "pca_X_train, len(pca_X_train[0]), pca_X_train.shape"
      ],
      "metadata": {
        "colab": {
          "base_uri": "https://localhost:8080/"
        },
        "id": "CpOeh-tx2DYJ",
        "outputId": "84fe5e9e-efb2-44dd-9187-475f052939df"
      },
      "execution_count": 21,
      "outputs": [
        {
          "output_type": "execute_result",
          "data": {
            "text/plain": [
              "(array([[-0.88427895,  2.97932673, -1.53821127, ...,  1.15787512,\n",
              "         -1.49785069,  0.23579905],\n",
              "        [ 0.0133775 ,  0.78639565, -0.50261724, ...,  0.30414719,\n",
              "          0.10928298, -0.10489514],\n",
              "        [ 1.74117771, -2.78596446,  0.49066597, ..., -0.74854633,\n",
              "          1.33621977, -0.16517216],\n",
              "        ...,\n",
              "        [-1.51497371, -0.98051403, -0.65684093, ...,  0.00318721,\n",
              "          0.55068431, -1.0831786 ],\n",
              "        [ 1.10301396,  3.17015944,  0.21851002, ...,  0.43991916,\n",
              "          0.09966173,  0.88776018],\n",
              "        [-1.26632827, -0.99301816,  1.62926336, ...,  0.57848496,\n",
              "         -0.43810687,  0.47280827]]),\n",
              " 10,\n",
              " (9422, 10))"
            ]
          },
          "metadata": {},
          "execution_count": 21
        }
      ]
    },
    {
      "cell_type": "code",
      "source": [
        "MAX_DEPTH = 7\n",
        "\n",
        "# Create a decision tree classifier\n",
        "clf = DecisionTreeClassifier(max_depth=MAX_DEPTH)\n",
        "\n",
        "# Train the model\n",
        "clf.fit(pca_X_train, y_train)\n",
        "\n",
        "# Make predictions on the test set\n",
        "y_pred = clf.predict(pca_X_test)\n",
        "\n",
        "# Evaluate accuracy\n",
        "accuracy = accuracy_score(y_test, y_pred)\n",
        "f1 = f1_score(y_test, y_pred)\n",
        "auc = roc_auc_score(y_test, y_pred)\n",
        "precision = precision_score(y_test, y_pred)\n",
        "recall = recall_score(y_test, y_pred)\n",
        "\n",
        "print(f'Accuracy: {accuracy:.4f}\\nF1: {f1:.4f}\\nAUC: {auc:.4f}\\nPrecision: {precision:.4f}\\nRecall:{recall:.4f}')"
      ],
      "metadata": {
        "colab": {
          "base_uri": "https://localhost:8080/"
        },
        "id": "lMuyZz462WuN",
        "outputId": "09c5351b-2a8f-493b-968f-d3d589bc239a"
      },
      "execution_count": 22,
      "outputs": [
        {
          "output_type": "stream",
          "name": "stdout",
          "text": [
            "Accuracy: 0.8154\n",
            "F1: 0.8230\n",
            "AUC: 0.8155\n",
            "Precision: 0.7886\n",
            "Recall:0.8604\n"
          ]
        }
      ]
    },
    {
      "cell_type": "code",
      "source": [
        "val_data_len = len(X_train)//5\n",
        "\n",
        "val_nn_X_data = X_train[:val_data_len,:]\n",
        "val_nn_y_data = y_train[:val_data_len]\n",
        "nn_X_train = X_train[val_data_len:,:]\n",
        "nn_y_train = y_train[val_data_len:]\n",
        "\n",
        "print(len(val_nn_X_data))\n",
        "print(len(val_nn_y_data))\n",
        "print(len(nn_X_train))\n",
        "print(len(nn_y_train))"
      ],
      "metadata": {
        "colab": {
          "base_uri": "https://localhost:8080/"
        },
        "id": "FYkXqILE2bMV",
        "outputId": "7f8bff7f-eb10-40cf-c0c7-a74935297be0"
      },
      "execution_count": 23,
      "outputs": [
        {
          "output_type": "stream",
          "name": "stdout",
          "text": [
            "1884\n",
            "1884\n",
            "7538\n",
            "7538\n"
          ]
        }
      ]
    },
    {
      "cell_type": "code",
      "source": [
        "INPUT_DIM = 26\n",
        "BATCH_SIZE = 100\n",
        "N_O_EPOCHS = 50\n",
        "LR = 0.0001\n",
        "DROPOUT_R = 0.15\n",
        "# Create a Sequential model\n",
        "model = Sequential()\n",
        "model.add(Input((INPUT_DIM,), batch_size=BATCH_SIZE))\n",
        "# Add an input layer and a hidden layer with 16 neurons\n",
        "model.add(Dense(16, activation='gelu'))\n",
        "model.add(Dropout(DROPOUT_R))\n",
        "# Add an input layer and a hidden layer with 32 neurons\n",
        "model.add(Dense(32, activation='gelu'))\n",
        "model.add(Dropout(DROPOUT_R))\n",
        "# Add an input layer and a hidden layer with 64 neurons\n",
        "model.add(Dense(64, activation='gelu'))\n",
        "model.add(Dropout(DROPOUT_R))\n",
        "# Add an input layer and a hidden layer with 128 neurons\n",
        "model.add(Dense(128, activation='gelu'))\n",
        "model.add(Dropout(DROPOUT_R))\n",
        "# Add an input layer and a hidden layer with 256 neurons\n",
        "model.add(Dense(256, activation='gelu'))\n",
        "model.add(Dropout(DROPOUT_R))\n",
        "# Add an input layer and a hidden layer with 512 neurons\n",
        "model.add(Dense(512, activation='gelu'))\n",
        "model.add(Dropout(DROPOUT_R))\n",
        "# Add an input layer and a hidden layer with 1024 neurons\n",
        "model.add(Dense(1024, activation='gelu'))\n",
        "model.add(Dropout(DROPOUT_R))\n",
        "# Add an input layer and a hidden layer with 2048 neurons\n",
        "model.add(Dense(2048, activation='gelu'))\n",
        "model.add(Dropout(DROPOUT_R))\n",
        "# Add an output layer with 1 neuron (binary classification)\n",
        "model.add(Dense(1, activation='sigmoid'))\n",
        "# Callbacks\n",
        "es = EarlyStopping(monitor='val_loss', patience=10)\n",
        "reduce_lr = ReduceLROnPlateau(monitor='val_loss', factor=0.1, patience=5, min_lr=0.000001)\n",
        "callbacks = [es, reduce_lr]"
      ],
      "metadata": {
        "id": "tkBkli7m2fgo"
      },
      "execution_count": 31,
      "outputs": []
    },
    {
      "cell_type": "code",
      "source": [
        "from tensorflow.keras.metrics import AUC, Precision, Recall, BinaryAccuracy\n",
        "from tensorflow.keras.losses import BinaryCrossentropy\n",
        "from tensorflow.keras.optimizers import Adam\n",
        "\n",
        "# Assuming LR, N_O_EPOCHS, BATCH_SIZE, nn_X_train, nn_y_train, val_nn_X_data, val_nn_y_data, and callbacks are defined elsewhere\n",
        "\n",
        "model.compile(loss=BinaryCrossentropy(),\n",
        "              optimizer=Adam(learning_rate=LR),\n",
        "              metrics=[AUC(), Precision(), Recall(), BinaryAccuracy()])\n"
      ],
      "metadata": {
        "id": "BSD0FIqm2nxR"
      },
      "execution_count": 32,
      "outputs": []
    },
    {
      "cell_type": "code",
      "source": [
        "history = model.fit(nn_X_train, nn_y_train,\n",
        "          epochs=N_O_EPOCHS,\n",
        "          batch_size=BATCH_SIZE,\n",
        "          validation_data=[val_nn_X_data, val_nn_y_data],\n",
        "          callbacks=callbacks,\n",
        "          verbose=1)"
      ],
      "metadata": {
        "colab": {
          "base_uri": "https://localhost:8080/"
        },
        "id": "db-DFZDX3FoR",
        "outputId": "78f73262-fc6c-4604-8c50-6c5f8328da57"
      },
      "execution_count": 33,
      "outputs": [
        {
          "output_type": "stream",
          "name": "stdout",
          "text": [
            "Epoch 1/50\n",
            "76/76 [==============================] - 12s 104ms/step - loss: 0.6260 - auc_1: 0.7284 - precision_1: 0.6657 - recall_1: 0.7053 - binary_accuracy: 0.6734 - val_loss: 0.4781 - val_auc_1: 0.8700 - val_precision_1: 0.7677 - val_recall_1: 0.8152 - val_binary_accuracy: 0.7893 - lr: 1.0000e-04\n",
            "Epoch 2/50\n",
            "76/76 [==============================] - 8s 111ms/step - loss: 0.5141 - auc_1: 0.8251 - precision_1: 0.7387 - recall_1: 0.7720 - binary_accuracy: 0.7478 - val_loss: 0.4178 - val_auc_1: 0.9109 - val_precision_1: 0.7904 - val_recall_1: 0.8609 - val_binary_accuracy: 0.8206 - lr: 1.0000e-04\n",
            "Epoch 3/50\n",
            "76/76 [==============================] - 7s 89ms/step - loss: 0.4614 - auc_1: 0.8655 - precision_1: 0.7721 - recall_1: 0.8089 - binary_accuracy: 0.7836 - val_loss: 0.3688 - val_auc_1: 0.9302 - val_precision_1: 0.7921 - val_recall_1: 0.9152 - val_binary_accuracy: 0.8413 - lr: 1.0000e-04\n",
            "Epoch 4/50\n",
            "76/76 [==============================] - 8s 108ms/step - loss: 0.4323 - auc_1: 0.8800 - precision_1: 0.7824 - recall_1: 0.8281 - binary_accuracy: 0.7976 - val_loss: 0.3292 - val_auc_1: 0.9467 - val_precision_1: 0.8195 - val_recall_1: 0.9228 - val_binary_accuracy: 0.8631 - lr: 1.0000e-04\n",
            "Epoch 5/50\n",
            "76/76 [==============================] - 8s 101ms/step - loss: 0.3976 - auc_1: 0.9010 - precision_1: 0.8014 - recall_1: 0.8392 - binary_accuracy: 0.8144 - val_loss: 0.2951 - val_auc_1: 0.9566 - val_precision_1: 0.8495 - val_recall_1: 0.9207 - val_binary_accuracy: 0.8816 - lr: 1.0000e-04\n",
            "Epoch 6/50\n",
            "76/76 [==============================] - 8s 108ms/step - loss: 0.3687 - auc_1: 0.9154 - precision_1: 0.8221 - recall_1: 0.8645 - binary_accuracy: 0.8376 - val_loss: 0.2527 - val_auc_1: 0.9659 - val_precision_1: 0.8942 - val_recall_1: 0.9098 - val_binary_accuracy: 0.9034 - lr: 1.0000e-04\n",
            "Epoch 7/50\n",
            "76/76 [==============================] - 8s 111ms/step - loss: 0.3587 - auc_1: 0.9202 - precision_1: 0.8298 - recall_1: 0.8611 - binary_accuracy: 0.8412 - val_loss: 0.2399 - val_auc_1: 0.9720 - val_precision_1: 0.8894 - val_recall_1: 0.9261 - val_binary_accuracy: 0.9076 - lr: 1.0000e-04\n",
            "Epoch 8/50\n",
            "76/76 [==============================] - 7s 96ms/step - loss: 0.3415 - auc_1: 0.9274 - precision_1: 0.8372 - recall_1: 0.8753 - binary_accuracy: 0.8516 - val_loss: 0.2194 - val_auc_1: 0.9768 - val_precision_1: 0.9035 - val_recall_1: 0.9261 - val_binary_accuracy: 0.9156 - lr: 1.0000e-04\n",
            "Epoch 9/50\n",
            "76/76 [==============================] - 9s 112ms/step - loss: 0.3196 - auc_1: 0.9368 - precision_1: 0.8516 - recall_1: 0.8817 - binary_accuracy: 0.8631 - val_loss: 0.2098 - val_auc_1: 0.9795 - val_precision_1: 0.9037 - val_recall_1: 0.9283 - val_binary_accuracy: 0.9167 - lr: 1.0000e-04\n",
            "Epoch 10/50\n",
            "76/76 [==============================] - 8s 102ms/step - loss: 0.3007 - auc_1: 0.9446 - precision_1: 0.8661 - recall_1: 0.8898 - binary_accuracy: 0.8753 - val_loss: 0.1909 - val_auc_1: 0.9818 - val_precision_1: 0.9043 - val_recall_1: 0.9348 - val_binary_accuracy: 0.9199 - lr: 1.0000e-04\n",
            "Epoch 11/50\n",
            "76/76 [==============================] - 8s 109ms/step - loss: 0.2943 - auc_1: 0.9467 - precision_1: 0.8638 - recall_1: 0.8909 - binary_accuracy: 0.8744 - val_loss: 0.1824 - val_auc_1: 0.9832 - val_precision_1: 0.9073 - val_recall_1: 0.9359 - val_binary_accuracy: 0.9220 - lr: 1.0000e-04\n",
            "Epoch 12/50\n",
            "76/76 [==============================] - 8s 107ms/step - loss: 0.2842 - auc_1: 0.9506 - precision_1: 0.8699 - recall_1: 0.8972 - binary_accuracy: 0.8807 - val_loss: 0.1759 - val_auc_1: 0.9862 - val_precision_1: 0.9110 - val_recall_1: 0.9565 - val_binary_accuracy: 0.9331 - lr: 1.0000e-04\n",
            "Epoch 13/50\n",
            "76/76 [==============================] - 7s 97ms/step - loss: 0.2665 - auc_1: 0.9565 - precision_1: 0.8751 - recall_1: 0.9051 - binary_accuracy: 0.8872 - val_loss: 0.1581 - val_auc_1: 0.9866 - val_precision_1: 0.9252 - val_recall_1: 0.9413 - val_binary_accuracy: 0.9342 - lr: 1.0000e-04\n",
            "Epoch 14/50\n",
            "76/76 [==============================] - 8s 110ms/step - loss: 0.2590 - auc_1: 0.9587 - precision_1: 0.8887 - recall_1: 0.9051 - binary_accuracy: 0.8952 - val_loss: 0.1535 - val_auc_1: 0.9877 - val_precision_1: 0.9241 - val_recall_1: 0.9522 - val_binary_accuracy: 0.9384 - lr: 1.0000e-04\n",
            "Epoch 15/50\n",
            "76/76 [==============================] - 7s 98ms/step - loss: 0.2542 - auc_1: 0.9602 - precision_1: 0.8821 - recall_1: 0.9093 - binary_accuracy: 0.8932 - val_loss: 0.1603 - val_auc_1: 0.9886 - val_precision_1: 0.9283 - val_recall_1: 0.9565 - val_binary_accuracy: 0.9427 - lr: 1.0000e-04\n",
            "Epoch 16/50\n",
            "76/76 [==============================] - 8s 111ms/step - loss: 0.2408 - auc_1: 0.9644 - precision_1: 0.8898 - recall_1: 0.9106 - binary_accuracy: 0.8982 - val_loss: 0.1404 - val_auc_1: 0.9897 - val_precision_1: 0.9364 - val_recall_1: 0.9446 - val_binary_accuracy: 0.9416 - lr: 1.0000e-04\n",
            "Epoch 17/50\n",
            "76/76 [==============================] - 7s 97ms/step - loss: 0.2379 - auc_1: 0.9651 - precision_1: 0.8947 - recall_1: 0.9096 - binary_accuracy: 0.9006 - val_loss: 0.1428 - val_auc_1: 0.9912 - val_precision_1: 0.9347 - val_recall_1: 0.9641 - val_binary_accuracy: 0.9496 - lr: 1.0000e-04\n",
            "Epoch 18/50\n",
            "76/76 [==============================] - 8s 108ms/step - loss: 0.2293 - auc_1: 0.9672 - precision_1: 0.8956 - recall_1: 0.9183 - binary_accuracy: 0.9050 - val_loss: 0.1320 - val_auc_1: 0.9915 - val_precision_1: 0.9412 - val_recall_1: 0.9576 - val_binary_accuracy: 0.9501 - lr: 1.0000e-04\n",
            "Epoch 19/50\n",
            "76/76 [==============================] - 8s 105ms/step - loss: 0.2213 - auc_1: 0.9700 - precision_1: 0.9027 - recall_1: 0.9172 - binary_accuracy: 0.9086 - val_loss: 0.1292 - val_auc_1: 0.9918 - val_precision_1: 0.9386 - val_recall_1: 0.9630 - val_binary_accuracy: 0.9512 - lr: 1.0000e-04\n",
            "Epoch 20/50\n",
            "76/76 [==============================] - 8s 103ms/step - loss: 0.2146 - auc_1: 0.9713 - precision_1: 0.9056 - recall_1: 0.9225 - binary_accuracy: 0.9126 - val_loss: 0.1238 - val_auc_1: 0.9921 - val_precision_1: 0.9396 - val_recall_1: 0.9630 - val_binary_accuracy: 0.9517 - lr: 1.0000e-04\n",
            "Epoch 21/50\n",
            "76/76 [==============================] - 8s 111ms/step - loss: 0.2137 - auc_1: 0.9728 - precision_1: 0.9009 - recall_1: 0.9273 - binary_accuracy: 0.9120 - val_loss: 0.1235 - val_auc_1: 0.9929 - val_precision_1: 0.9437 - val_recall_1: 0.9663 - val_binary_accuracy: 0.9554 - lr: 1.0000e-04\n",
            "Epoch 22/50\n",
            "76/76 [==============================] - 7s 91ms/step - loss: 0.2140 - auc_1: 0.9714 - precision_1: 0.9013 - recall_1: 0.9312 - binary_accuracy: 0.9140 - val_loss: 0.1245 - val_auc_1: 0.9933 - val_precision_1: 0.9476 - val_recall_1: 0.9630 - val_binary_accuracy: 0.9559 - lr: 1.0000e-04\n",
            "Epoch 23/50\n",
            "76/76 [==============================] - 8s 108ms/step - loss: 0.2058 - auc_1: 0.9735 - precision_1: 0.9120 - recall_1: 0.9309 - binary_accuracy: 0.9200 - val_loss: 0.1143 - val_auc_1: 0.9934 - val_precision_1: 0.9497 - val_recall_1: 0.9641 - val_binary_accuracy: 0.9575 - lr: 1.0000e-04\n",
            "Epoch 24/50\n",
            "76/76 [==============================] - 7s 96ms/step - loss: 0.2001 - auc_1: 0.9751 - precision_1: 0.9131 - recall_1: 0.9251 - binary_accuracy: 0.9180 - val_loss: 0.1155 - val_auc_1: 0.9933 - val_precision_1: 0.9383 - val_recall_1: 0.9761 - val_binary_accuracy: 0.9570 - lr: 1.0000e-04\n",
            "Epoch 25/50\n",
            "76/76 [==============================] - 8s 111ms/step - loss: 0.1869 - auc_1: 0.9783 - precision_1: 0.9145 - recall_1: 0.9336 - binary_accuracy: 0.9227 - val_loss: 0.1138 - val_auc_1: 0.9930 - val_precision_1: 0.9353 - val_recall_1: 0.9750 - val_binary_accuracy: 0.9549 - lr: 1.0000e-04\n",
            "Epoch 26/50\n",
            "76/76 [==============================] - 7s 95ms/step - loss: 0.1998 - auc_1: 0.9751 - precision_1: 0.9138 - recall_1: 0.9302 - binary_accuracy: 0.9207 - val_loss: 0.1120 - val_auc_1: 0.9938 - val_precision_1: 0.9451 - val_recall_1: 0.9728 - val_binary_accuracy: 0.9591 - lr: 1.0000e-04\n",
            "Epoch 27/50\n",
            "76/76 [==============================] - 8s 104ms/step - loss: 0.1835 - auc_1: 0.9791 - precision_1: 0.9204 - recall_1: 0.9391 - binary_accuracy: 0.9285 - val_loss: 0.1104 - val_auc_1: 0.9942 - val_precision_1: 0.9501 - val_recall_1: 0.9728 - val_binary_accuracy: 0.9618 - lr: 1.0000e-04\n",
            "Epoch 28/50\n",
            "76/76 [==============================] - 8s 99ms/step - loss: 0.1779 - auc_1: 0.9803 - precision_1: 0.9209 - recall_1: 0.9394 - binary_accuracy: 0.9289 - val_loss: 0.1068 - val_auc_1: 0.9939 - val_precision_1: 0.9509 - val_recall_1: 0.9685 - val_binary_accuracy: 0.9602 - lr: 1.0000e-04\n",
            "Epoch 29/50\n",
            "76/76 [==============================] - 7s 95ms/step - loss: 0.1724 - auc_1: 0.9814 - precision_1: 0.9246 - recall_1: 0.9436 - binary_accuracy: 0.9329 - val_loss: 0.1014 - val_auc_1: 0.9945 - val_precision_1: 0.9561 - val_recall_1: 0.9717 - val_binary_accuracy: 0.9644 - lr: 1.0000e-04\n",
            "Epoch 30/50\n",
            "76/76 [==============================] - 8s 105ms/step - loss: 0.1829 - auc_1: 0.9793 - precision_1: 0.9231 - recall_1: 0.9333 - binary_accuracy: 0.9273 - val_loss: 0.1058 - val_auc_1: 0.9946 - val_precision_1: 0.9434 - val_recall_1: 0.9783 - val_binary_accuracy: 0.9607 - lr: 1.0000e-04\n",
            "Epoch 31/50\n",
            "76/76 [==============================] - 7s 89ms/step - loss: 0.1680 - auc_1: 0.9826 - precision_1: 0.9291 - recall_1: 0.9423 - binary_accuracy: 0.9347 - val_loss: 0.0961 - val_auc_1: 0.9947 - val_precision_1: 0.9512 - val_recall_1: 0.9739 - val_binary_accuracy: 0.9628 - lr: 1.0000e-04\n",
            "Epoch 32/50\n",
            "76/76 [==============================] - 8s 106ms/step - loss: 0.1725 - auc_1: 0.9810 - precision_1: 0.9265 - recall_1: 0.9404 - binary_accuracy: 0.9325 - val_loss: 0.0958 - val_auc_1: 0.9952 - val_precision_1: 0.9523 - val_recall_1: 0.9761 - val_binary_accuracy: 0.9644 - lr: 1.0000e-04\n",
            "Epoch 33/50\n",
            "76/76 [==============================] - 7s 95ms/step - loss: 0.1622 - auc_1: 0.9833 - precision_1: 0.9292 - recall_1: 0.9449 - binary_accuracy: 0.9361 - val_loss: 0.0930 - val_auc_1: 0.9953 - val_precision_1: 0.9572 - val_recall_1: 0.9728 - val_binary_accuracy: 0.9655 - lr: 1.0000e-04\n",
            "Epoch 34/50\n",
            "76/76 [==============================] - 8s 110ms/step - loss: 0.1689 - auc_1: 0.9824 - precision_1: 0.9275 - recall_1: 0.9404 - binary_accuracy: 0.9330 - val_loss: 0.0928 - val_auc_1: 0.9954 - val_precision_1: 0.9563 - val_recall_1: 0.9750 - val_binary_accuracy: 0.9660 - lr: 1.0000e-04\n",
            "Epoch 35/50\n",
            "76/76 [==============================] - 7s 94ms/step - loss: 0.1624 - auc_1: 0.9836 - precision_1: 0.9338 - recall_1: 0.9436 - binary_accuracy: 0.9379 - val_loss: 0.0934 - val_auc_1: 0.9956 - val_precision_1: 0.9584 - val_recall_1: 0.9761 - val_binary_accuracy: 0.9676 - lr: 1.0000e-04\n",
            "Epoch 36/50\n",
            "76/76 [==============================] - 8s 110ms/step - loss: 0.1501 - auc_1: 0.9858 - precision_1: 0.9352 - recall_1: 0.9507 - binary_accuracy: 0.9420 - val_loss: 0.0892 - val_auc_1: 0.9956 - val_precision_1: 0.9645 - val_recall_1: 0.9739 - val_binary_accuracy: 0.9697 - lr: 1.0000e-04\n",
            "Epoch 37/50\n",
            "76/76 [==============================] - 7s 96ms/step - loss: 0.1506 - auc_1: 0.9854 - precision_1: 0.9384 - recall_1: 0.9478 - binary_accuracy: 0.9424 - val_loss: 0.0891 - val_auc_1: 0.9952 - val_precision_1: 0.9543 - val_recall_1: 0.9761 - val_binary_accuracy: 0.9655 - lr: 1.0000e-04\n",
            "Epoch 38/50\n",
            "76/76 [==============================] - 8s 106ms/step - loss: 0.1472 - auc_1: 0.9863 - precision_1: 0.9395 - recall_1: 0.9499 - binary_accuracy: 0.9440 - val_loss: 0.0920 - val_auc_1: 0.9955 - val_precision_1: 0.9523 - val_recall_1: 0.9772 - val_binary_accuracy: 0.9650 - lr: 1.0000e-04\n",
            "Epoch 39/50\n",
            "76/76 [==============================] - 8s 110ms/step - loss: 0.1545 - auc_1: 0.9854 - precision_1: 0.9392 - recall_1: 0.9439 - binary_accuracy: 0.9410 - val_loss: 0.0857 - val_auc_1: 0.9956 - val_precision_1: 0.9564 - val_recall_1: 0.9783 - val_binary_accuracy: 0.9676 - lr: 1.0000e-04\n",
            "Epoch 40/50\n",
            "76/76 [==============================] - 7s 96ms/step - loss: 0.1477 - auc_1: 0.9863 - precision_1: 0.9360 - recall_1: 0.9486 - binary_accuracy: 0.9415 - val_loss: 0.0875 - val_auc_1: 0.9959 - val_precision_1: 0.9584 - val_recall_1: 0.9761 - val_binary_accuracy: 0.9676 - lr: 1.0000e-04\n",
            "Epoch 41/50\n",
            "76/76 [==============================] - 8s 109ms/step - loss: 0.1456 - auc_1: 0.9867 - precision_1: 0.9410 - recall_1: 0.9504 - binary_accuracy: 0.9451 - val_loss: 0.0831 - val_auc_1: 0.9964 - val_precision_1: 0.9666 - val_recall_1: 0.9761 - val_binary_accuracy: 0.9719 - lr: 1.0000e-04\n",
            "Epoch 42/50\n",
            "76/76 [==============================] - 7s 92ms/step - loss: 0.1442 - auc_1: 0.9871 - precision_1: 0.9355 - recall_1: 0.9512 - binary_accuracy: 0.9424 - val_loss: 0.0843 - val_auc_1: 0.9957 - val_precision_1: 0.9625 - val_recall_1: 0.9761 - val_binary_accuracy: 0.9697 - lr: 1.0000e-04\n",
            "Epoch 43/50\n",
            "76/76 [==============================] - 8s 111ms/step - loss: 0.1467 - auc_1: 0.9862 - precision_1: 0.9402 - recall_1: 0.9491 - binary_accuracy: 0.9440 - val_loss: 0.0842 - val_auc_1: 0.9964 - val_precision_1: 0.9656 - val_recall_1: 0.9761 - val_binary_accuracy: 0.9713 - lr: 1.0000e-04\n",
            "Epoch 44/50\n",
            "76/76 [==============================] - 7s 95ms/step - loss: 0.1388 - auc_1: 0.9877 - precision_1: 0.9426 - recall_1: 0.9523 - binary_accuracy: 0.9468 - val_loss: 0.0799 - val_auc_1: 0.9965 - val_precision_1: 0.9666 - val_recall_1: 0.9761 - val_binary_accuracy: 0.9719 - lr: 1.0000e-04\n",
            "Epoch 45/50\n",
            "76/76 [==============================] - 8s 112ms/step - loss: 0.1376 - auc_1: 0.9879 - precision_1: 0.9446 - recall_1: 0.9528 - binary_accuracy: 0.9481 - val_loss: 0.0749 - val_auc_1: 0.9964 - val_precision_1: 0.9688 - val_recall_1: 0.9772 - val_binary_accuracy: 0.9735 - lr: 1.0000e-04\n",
            "Epoch 46/50\n",
            "76/76 [==============================] - 8s 101ms/step - loss: 0.1469 - auc_1: 0.9863 - precision_1: 0.9422 - recall_1: 0.9497 - binary_accuracy: 0.9453 - val_loss: 0.0819 - val_auc_1: 0.9964 - val_precision_1: 0.9687 - val_recall_1: 0.9761 - val_binary_accuracy: 0.9729 - lr: 1.0000e-04\n",
            "Epoch 47/50\n",
            "76/76 [==============================] - 8s 100ms/step - loss: 0.1363 - auc_1: 0.9879 - precision_1: 0.9460 - recall_1: 0.9520 - binary_accuracy: 0.9485 - val_loss: 0.0781 - val_auc_1: 0.9961 - val_precision_1: 0.9625 - val_recall_1: 0.9772 - val_binary_accuracy: 0.9703 - lr: 1.0000e-04\n",
            "Epoch 48/50\n",
            "76/76 [==============================] - 8s 107ms/step - loss: 0.1369 - auc_1: 0.9877 - precision_1: 0.9446 - recall_1: 0.9533 - binary_accuracy: 0.9484 - val_loss: 0.0775 - val_auc_1: 0.9967 - val_precision_1: 0.9667 - val_recall_1: 0.9793 - val_binary_accuracy: 0.9735 - lr: 1.0000e-04\n",
            "Epoch 49/50\n",
            "76/76 [==============================] - 7s 96ms/step - loss: 0.1398 - auc_1: 0.9878 - precision_1: 0.9410 - recall_1: 0.9494 - binary_accuracy: 0.9445 - val_loss: 0.0778 - val_auc_1: 0.9967 - val_precision_1: 0.9677 - val_recall_1: 0.9761 - val_binary_accuracy: 0.9724 - lr: 1.0000e-04\n",
            "Epoch 50/50\n",
            "76/76 [==============================] - 8s 112ms/step - loss: 0.1272 - auc_1: 0.9895 - precision_1: 0.9512 - recall_1: 0.9549 - binary_accuracy: 0.9526 - val_loss: 0.0769 - val_auc_1: 0.9962 - val_precision_1: 0.9626 - val_recall_1: 0.9783 - val_binary_accuracy: 0.9708 - lr: 1.0000e-04\n"
          ]
        }
      ]
    },
    {
      "cell_type": "code",
      "source": [
        "import matplotlib.pyplot as plt\n",
        "\n",
        "# Summarize history for loss\n",
        "plt.plot(history.history['loss'])\n",
        "plt.plot(history.history['val_loss'])\n",
        "plt.title('Model loss')\n",
        "plt.ylabel('Loss')\n",
        "plt.xlabel('Epoch')\n",
        "plt.legend(['Train', 'Val'], loc='upper left')\n",
        "plt.show()"
      ],
      "metadata": {
        "colab": {
          "base_uri": "https://localhost:8080/",
          "height": 472
        },
        "id": "IGImx8vV9uvJ",
        "outputId": "c4d0379d-223a-4ac1-e35a-30b6e3c48bb4"
      },
      "execution_count": 42,
      "outputs": [
        {
          "output_type": "display_data",
          "data": {
            "text/plain": [
              "<Figure size 640x480 with 1 Axes>"
            ],
            "image/png": "[encoded data removed]"
          },
          "metadata": {}
        }
      ]
    },
    {
      "cell_type": "code",
      "source": [
        "results = model.evaluate(X_test, y_test, batch_size=BATCH_SIZE)"
      ],
      "metadata": {
        "colab": {
          "base_uri": "https://localhost:8080/"
        },
        "id": "egCm4_pjAwPX",
        "outputId": "21faab90-03cc-4a12-8527-c52aa20c05af"
      },
      "execution_count": 43,
      "outputs": [
        {
          "output_type": "stream",
          "name": "stdout",
          "text": [
            "24/24 [==============================] - 1s 28ms/step - loss: 0.0737 - auc_1: 0.9964 - precision_1: 0.9646 - recall_1: 0.9753 - binary_accuracy: 0.9699\n"
          ]
        }
      ]
    },
    {
      "cell_type": "code",
      "source": [
        "from sklearn.neighbors import KNeighborsClassifier\n",
        "\n",
        "NO_NEIGHBORS = 10\n",
        "\n",
        "knn = KNeighborsClassifier(n_neighbors=NO_NEIGHBORS)\n",
        "knn.fit(pca_X_train, y_train)\n",
        "\n",
        "# Make predictions on the test set\n",
        "y_pred = knn.predict(pca_X_test)\n",
        "\n",
        "# Evaluate accuracy\n",
        "accuracy = accuracy_score(y_test, y_pred)\n",
        "f1 = f1_score(y_test, y_pred)\n",
        "auc = roc_auc_score(y_test, y_pred)\n",
        "precision = precision_score(y_test, y_pred)\n",
        "recall = recall_score(y_test, y_pred)\n",
        "\n",
        "print(f'Accuracy: {accuracy:.4f}\\nF1: {f1:.4f}\\nAUC: {auc:.4f}\\nPrecision: {precision:.4f}\\nRecall:{recall:.4f}')"
      ],
      "metadata": {
        "colab": {
          "base_uri": "https://localhost:8080/"
        },
        "id": "8v9TvksnA0bZ",
        "outputId": "1867aa8e-cd0e-45d6-b30a-49426b8f95f6"
      },
      "execution_count": 44,
      "outputs": [
        {
          "output_type": "stream",
          "name": "stdout",
          "text": [
            "Accuracy: 0.8557\n",
            "F1: 0.8620\n",
            "AUC: 0.8558\n",
            "Precision: 0.8239\n",
            "Recall:0.9038\n"
          ]
        }
      ]
    },
    {
      "cell_type": "code",
      "source": [
        "y_pred_dt = clf.predict(pca_X_test)\n",
        "cm_dt = confusion_matrix(y_test, y_pred_dt, normalize='pred')\n",
        "print(cm_dt)"
      ],
      "metadata": {
        "colab": {
          "base_uri": "https://localhost:8080/"
        },
        "id": "T3xeQnVFA43-",
        "outputId": "73dedf9b-8a4c-443a-c704-a33b38eedb03"
      },
      "execution_count": 45,
      "outputs": [
        {
          "output_type": "stream",
          "name": "stdout",
          "text": [
            "[[0.84729981 0.21138846]\n",
            " [0.15270019 0.78861154]]\n"
          ]
        }
      ]
    },
    {
      "cell_type": "code",
      "source": [
        "import seaborn as sn\n",
        "\n",
        "df_cm = pd.DataFrame(cm_dt, index = [i for i in [\"REAL\",\"FAKE\"]],\n",
        "                  columns = [i for i in [\"REAL\",\"FAKE\"]])\n",
        "plt.figure(figsize = (10,7))\n",
        "sn.heatmap(df_cm, annot=True, fmt='.4f')"
      ],
      "metadata": {
        "colab": {
          "base_uri": "https://localhost:8080/",
          "height": 616
        },
        "id": "FYFdK9vPA_Ee",
        "outputId": "ebf0d715-cf4c-4c06-be3f-ab7bfa2ee7e8"
      },
      "execution_count": 46,
      "outputs": [
        {
          "output_type": "execute_result",
          "data": {
            "text/plain": [
              "<Axes: >"
            ]
          },
          "metadata": {},
          "execution_count": 46
        },
        {
          "output_type": "display_data",
          "data": {
            "text/plain": [
              "<Figure size 1000x700 with 2 Axes>"
            ],
            "image/png": "[encoded data removed]"
          },
          "metadata": {}
        }
      ]
    },
    {
      "cell_type": "code",
      "source": [],
      "metadata": {
        "id": "GGvjAxmcBITd"
      },
      "execution_count": null,
      "outputs": []
    }
  ]
}